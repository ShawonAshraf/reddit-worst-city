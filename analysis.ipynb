{
 "cells": [
  {
   "cell_type": "code",
   "execution_count": 1,
   "metadata": {},
   "outputs": [
    {
     "name": "stdout",
     "output_type": "stream",
     "text": [
      "{\n",
      "    \"id\": \"1kplv0m\",\n",
      "    \"title\": \"What’s the worst city you’ve ever visited?\",\n",
      "    \"created_utc\": 1747580131.0,\n",
      "    \"score\": 6166,\n",
      "    \"num_comments\": 7952,\n",
      "    \"url\": \"https://www.reddit.com/r/AskReddit/comments/1kplv0m/whats_the_worst_city_youve_ever_visited/\",\n",
      "    \"selftext\": \"\",\n",
      "    \"subreddit\": \"AskReddit\"\n",
      "}\n"
     ]
    }
   ],
   "source": [
    "from schema import RedditPostData\n",
    "\n",
    "post_data = RedditPostData.model_validate_json(\n",
    "    open(\"post_data.json\", \"r\").read()\n",
    ")\n",
    "\n",
    "print(post_data.model_dump_json(indent=4))"
   ]
  },
  {
   "cell_type": "code",
   "execution_count": 4,
   "metadata": {},
   "outputs": [
    {
     "name": "stdout",
     "output_type": "stream",
     "text": [
      "7819\n",
      "{\n",
      "    \"id\": \"msz6yfk\",\n",
      "    \"body\": \"Djibouti City…… all of those plastic bags you throw away after a grocery store run….ALL OF THEM….end up here\",\n",
      "    \"created_utc\": 1747586036.0,\n",
      "    \"score\": 5866,\n",
      "    \"depth\": 0,\n",
      "    \"parent_id\": \"t3_1kplv0m\",\n",
      "    \"permalink\": \"/r/AskReddit/comments/1kplv0m/whats_the_worst_city_youve_ever_visited/msz6yfk/\"\n",
      "}\n"
     ]
    }
   ],
   "source": [
    "from schema import Comments\n",
    "\n",
    "comments = Comments.model_validate_json(\n",
    "    open(\"comments.json\", \"r\").read()\n",
    ").comments\n",
    "\n",
    "print(len(comments))\n",
    "print(comments[0].model_dump_json(indent=4))"
   ]
  },
  {
   "cell_type": "code",
   "execution_count": 6,
   "metadata": {},
   "outputs": [
    {
     "data": {
      "text/plain": [
       "['Djibouti City…… all of those plastic bags you throw away after a grocery store run….ALL OF THEM….end up here',\n",
       " 'Djibouti. Flew in there from Dubai. Shantytowns everywhere, burning trash, absolutely brutal poverty',\n",
       " 'Cairo. Whole city is a dumpster',\n",
       " \"Cairo.\\xa0\\n\\n\\n20-30m people. No functioning garbage collection. Total gridlock. No greenery anywhere. Barely even any pavements. Sweltering heat and smog.\\n\\n\\nHuge motorways and overpasses coming right up to the windows of dilapidated concrete apartment towers.\\xa0\\n\\nA lot of the apartments were half built and lacked windows but were occupied by people.\\xa0\\n\\nAn extremely creepy/hostile atmosphere for women walking in public and scammers everywhere.\\xa0\\n\\nThe very definition of urban hell.\\xa0\\n\\n\\nEdit: It's quite amusing seeing some of the other quite nice cities\\xa0listed here and imagining those people visiting Cairo. 😄\\xa0\",\n",
       " 'Termez, Uzbekistan. I got temporarily kidnapped by what I think was a drug smuggler. Plus it’s hot and the food sucks.']"
      ]
     },
     "execution_count": 6,
     "metadata": {},
     "output_type": "execute_result"
    }
   ],
   "source": [
    "# collect all the body text from the comments\n",
    "body_texts = [c.body for c in comments]\n",
    "assert len(body_texts) == len(comments)\n",
    "\n",
    "body_texts[:5]"
   ]
  },
  {
   "cell_type": "code",
   "execution_count": null,
   "metadata": {},
   "outputs": [],
   "source": []
  }
 ],
 "metadata": {
  "kernelspec": {
   "display_name": ".venv",
   "language": "python",
   "name": "python3"
  },
  "language_info": {
   "codemirror_mode": {
    "name": "ipython",
    "version": 3
   },
   "file_extension": ".py",
   "mimetype": "text/x-python",
   "name": "python",
   "nbconvert_exporter": "python",
   "pygments_lexer": "ipython3",
   "version": "3.12.8"
  }
 },
 "nbformat": 4,
 "nbformat_minor": 2
}
